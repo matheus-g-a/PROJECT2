{
 "cells": [
  {
   "cell_type": "code",
   "execution_count": 1,
   "id": "6415aef9-836b-41f6-ab17-e6ecc2f88786",
   "metadata": {},
   "outputs": [],
   "source": [
    "import requests\n",
    "import pandas as pd\n",
    "import plotly.express as px\n",
    "import json\n",
    "import sqlalchemy"
   ]
  },
  {
   "cell_type": "code",
   "execution_count": 2,
   "id": "286bc1de-de2b-4e2b-8272-5299a6fdb62b",
   "metadata": {},
   "outputs": [],
   "source": [
    "pd.options.display.max_rows = None"
   ]
  },
  {
   "cell_type": "code",
   "execution_count": 3,
   "id": "283bc2f0",
   "metadata": {},
   "outputs": [],
   "source": [
    "api_key = \"9d3018a9c90b575a02fb26df9d7aa565c4e118bb\""
   ]
  },
  {
   "cell_type": "code",
   "execution_count": 4,
   "id": "382cc5ae-8ef0-42a9-b79d-1b86dc89e822",
   "metadata": {},
   "outputs": [],
   "source": [
    "cities = ['New York city, New York', 'Los Angeles city, California', 'San Francisco city, California', 'Miami city, Florida', 'Seattle city, Washington', 'Atlanta city, Georgia', 'Denver city, Colorado', 'Chicago city, Illinois', 'Dallas city, Texas']"
   ]
  },
  {
   "cell_type": "code",
   "execution_count": 5,
   "id": "455b9f09-b645-4ea3-9401-342bcbe75326",
   "metadata": {},
   "outputs": [],
   "source": [
    "def json_to_dataframe(response):\n",
    "    \"\"\"\n",
    "    Convert response to dataframe\n",
    "    \"\"\"\n",
    "    return pd.DataFrame(response.json()[1:], columns=response.json()[0])"
   ]
  },
  {
   "cell_type": "code",
   "execution_count": 6,
   "id": "48df4296-2adb-480c-825e-527acba16cec",
   "metadata": {},
   "outputs": [],
   "source": [
    "url = \"https://api.census.gov/data/2019/pep/population?get=NAME,POP&for=place:*&key={0}\".format(api_key)\n"
   ]
  },
  {
   "cell_type": "code",
   "execution_count": 7,
   "id": "ec352d37-c8cc-4d26-90df-8787c8d0ff67",
   "metadata": {},
   "outputs": [],
   "source": [
    "response = requests.get(url)"
   ]
  },
  {
   "cell_type": "code",
   "execution_count": 8,
   "id": "69c0113e-ad49-44d4-ab8e-23922d521a8a",
   "metadata": {},
   "outputs": [
    {
     "ename": "JSONDecodeError",
     "evalue": "[Errno Expecting value] \n<html>\n    <head>\n        <title>Invalid Key</title>\n    </head>\n    <body>\n        <p>\n            A valid <em>key</em> must be included with each data API request.\n            You included a key with this request, however, it is not valid.\n            Please check your key and try again.\n        </p>\n        <p>\n            If you do not have a key you may sign up for one <a href=\"key_signup.html\">here</a>.\n        </p>\n    </body>\n</html>\n: 1",
     "output_type": "error",
     "traceback": [
      "\u001b[0;31m---------------------------------------------------------------------------\u001b[0m",
      "\u001b[0;31mJSONDecodeError\u001b[0m                           Traceback (most recent call last)",
      "File \u001b[0;32m~/opt/anaconda3/lib/python3.9/site-packages/requests/models.py:910\u001b[0m, in \u001b[0;36mResponse.json\u001b[0;34m(self, **kwargs)\u001b[0m\n\u001b[1;32m    909\u001b[0m \u001b[38;5;28;01mtry\u001b[39;00m:\n\u001b[0;32m--> 910\u001b[0m     \u001b[38;5;28;01mreturn\u001b[39;00m \u001b[43mcomplexjson\u001b[49m\u001b[38;5;241;43m.\u001b[39;49m\u001b[43mloads\u001b[49m\u001b[43m(\u001b[49m\u001b[38;5;28;43mself\u001b[39;49m\u001b[38;5;241;43m.\u001b[39;49m\u001b[43mtext\u001b[49m\u001b[43m,\u001b[49m\u001b[43m \u001b[49m\u001b[38;5;241;43m*\u001b[39;49m\u001b[38;5;241;43m*\u001b[39;49m\u001b[43mkwargs\u001b[49m\u001b[43m)\u001b[49m\n\u001b[1;32m    911\u001b[0m \u001b[38;5;28;01mexcept\u001b[39;00m JSONDecodeError \u001b[38;5;28;01mas\u001b[39;00m e:\n\u001b[1;32m    912\u001b[0m     \u001b[38;5;66;03m# Catch JSON-related errors and raise as requests.JSONDecodeError\u001b[39;00m\n\u001b[1;32m    913\u001b[0m     \u001b[38;5;66;03m# This aliases json.JSONDecodeError and simplejson.JSONDecodeError\u001b[39;00m\n",
      "File \u001b[0;32m~/opt/anaconda3/lib/python3.9/json/__init__.py:346\u001b[0m, in \u001b[0;36mloads\u001b[0;34m(s, cls, object_hook, parse_float, parse_int, parse_constant, object_pairs_hook, **kw)\u001b[0m\n\u001b[1;32m    343\u001b[0m \u001b[38;5;28;01mif\u001b[39;00m (\u001b[38;5;28mcls\u001b[39m \u001b[38;5;129;01mis\u001b[39;00m \u001b[38;5;28;01mNone\u001b[39;00m \u001b[38;5;129;01mand\u001b[39;00m object_hook \u001b[38;5;129;01mis\u001b[39;00m \u001b[38;5;28;01mNone\u001b[39;00m \u001b[38;5;129;01mand\u001b[39;00m\n\u001b[1;32m    344\u001b[0m         parse_int \u001b[38;5;129;01mis\u001b[39;00m \u001b[38;5;28;01mNone\u001b[39;00m \u001b[38;5;129;01mand\u001b[39;00m parse_float \u001b[38;5;129;01mis\u001b[39;00m \u001b[38;5;28;01mNone\u001b[39;00m \u001b[38;5;129;01mand\u001b[39;00m\n\u001b[1;32m    345\u001b[0m         parse_constant \u001b[38;5;129;01mis\u001b[39;00m \u001b[38;5;28;01mNone\u001b[39;00m \u001b[38;5;129;01mand\u001b[39;00m object_pairs_hook \u001b[38;5;129;01mis\u001b[39;00m \u001b[38;5;28;01mNone\u001b[39;00m \u001b[38;5;129;01mand\u001b[39;00m \u001b[38;5;129;01mnot\u001b[39;00m kw):\n\u001b[0;32m--> 346\u001b[0m     \u001b[38;5;28;01mreturn\u001b[39;00m \u001b[43m_default_decoder\u001b[49m\u001b[38;5;241;43m.\u001b[39;49m\u001b[43mdecode\u001b[49m\u001b[43m(\u001b[49m\u001b[43ms\u001b[49m\u001b[43m)\u001b[49m\n\u001b[1;32m    347\u001b[0m \u001b[38;5;28;01mif\u001b[39;00m \u001b[38;5;28mcls\u001b[39m \u001b[38;5;129;01mis\u001b[39;00m \u001b[38;5;28;01mNone\u001b[39;00m:\n",
      "File \u001b[0;32m~/opt/anaconda3/lib/python3.9/json/decoder.py:337\u001b[0m, in \u001b[0;36mJSONDecoder.decode\u001b[0;34m(self, s, _w)\u001b[0m\n\u001b[1;32m    333\u001b[0m \u001b[38;5;124;03m\"\"\"Return the Python representation of ``s`` (a ``str`` instance\u001b[39;00m\n\u001b[1;32m    334\u001b[0m \u001b[38;5;124;03mcontaining a JSON document).\u001b[39;00m\n\u001b[1;32m    335\u001b[0m \n\u001b[1;32m    336\u001b[0m \u001b[38;5;124;03m\"\"\"\u001b[39;00m\n\u001b[0;32m--> 337\u001b[0m obj, end \u001b[38;5;241m=\u001b[39m \u001b[38;5;28;43mself\u001b[39;49m\u001b[38;5;241;43m.\u001b[39;49m\u001b[43mraw_decode\u001b[49m\u001b[43m(\u001b[49m\u001b[43ms\u001b[49m\u001b[43m,\u001b[49m\u001b[43m \u001b[49m\u001b[43midx\u001b[49m\u001b[38;5;241;43m=\u001b[39;49m\u001b[43m_w\u001b[49m\u001b[43m(\u001b[49m\u001b[43ms\u001b[49m\u001b[43m,\u001b[49m\u001b[43m \u001b[49m\u001b[38;5;241;43m0\u001b[39;49m\u001b[43m)\u001b[49m\u001b[38;5;241;43m.\u001b[39;49m\u001b[43mend\u001b[49m\u001b[43m(\u001b[49m\u001b[43m)\u001b[49m\u001b[43m)\u001b[49m\n\u001b[1;32m    338\u001b[0m end \u001b[38;5;241m=\u001b[39m _w(s, end)\u001b[38;5;241m.\u001b[39mend()\n",
      "File \u001b[0;32m~/opt/anaconda3/lib/python3.9/json/decoder.py:355\u001b[0m, in \u001b[0;36mJSONDecoder.raw_decode\u001b[0;34m(self, s, idx)\u001b[0m\n\u001b[1;32m    354\u001b[0m \u001b[38;5;28;01mexcept\u001b[39;00m \u001b[38;5;167;01mStopIteration\u001b[39;00m \u001b[38;5;28;01mas\u001b[39;00m err:\n\u001b[0;32m--> 355\u001b[0m     \u001b[38;5;28;01mraise\u001b[39;00m JSONDecodeError(\u001b[38;5;124m\"\u001b[39m\u001b[38;5;124mExpecting value\u001b[39m\u001b[38;5;124m\"\u001b[39m, s, err\u001b[38;5;241m.\u001b[39mvalue) \u001b[38;5;28;01mfrom\u001b[39;00m \u001b[38;5;28mNone\u001b[39m\n\u001b[1;32m    356\u001b[0m \u001b[38;5;28;01mreturn\u001b[39;00m obj, end\n",
      "\u001b[0;31mJSONDecodeError\u001b[0m: Expecting value: line 2 column 1 (char 1)",
      "\nDuring handling of the above exception, another exception occurred:\n",
      "\u001b[0;31mJSONDecodeError\u001b[0m                           Traceback (most recent call last)",
      "Input \u001b[0;32mIn [8]\u001b[0m, in \u001b[0;36m<cell line: 1>\u001b[0;34m()\u001b[0m\n\u001b[0;32m----> 1\u001b[0m data \u001b[38;5;241m=\u001b[39m \u001b[43mresponse\u001b[49m\u001b[38;5;241;43m.\u001b[39;49m\u001b[43mjson\u001b[49m\u001b[43m(\u001b[49m\u001b[43m)\u001b[49m\n\u001b[1;32m      2\u001b[0m all_cities \u001b[38;5;241m=\u001b[39m pd\u001b[38;5;241m.\u001b[39mDataFrame(data[\u001b[38;5;241m1\u001b[39m:], columns\u001b[38;5;241m=\u001b[39mdata[\u001b[38;5;241m0\u001b[39m])\n\u001b[1;32m      3\u001b[0m all_cities[\u001b[38;5;124m\"\u001b[39m\u001b[38;5;124mPOP\u001b[39m\u001b[38;5;124m\"\u001b[39m] \u001b[38;5;241m=\u001b[39m all_cities[\u001b[38;5;124m\"\u001b[39m\u001b[38;5;124mPOP\u001b[39m\u001b[38;5;124m\"\u001b[39m]\u001b[38;5;241m.\u001b[39mastype(\u001b[38;5;28mfloat\u001b[39m)\n",
      "File \u001b[0;32m~/opt/anaconda3/lib/python3.9/site-packages/requests/models.py:917\u001b[0m, in \u001b[0;36mResponse.json\u001b[0;34m(self, **kwargs)\u001b[0m\n\u001b[1;32m    915\u001b[0m     \u001b[38;5;28;01mraise\u001b[39;00m RequestsJSONDecodeError(e\u001b[38;5;241m.\u001b[39mmessage)\n\u001b[1;32m    916\u001b[0m \u001b[38;5;28;01melse\u001b[39;00m:\n\u001b[0;32m--> 917\u001b[0m     \u001b[38;5;28;01mraise\u001b[39;00m RequestsJSONDecodeError(e\u001b[38;5;241m.\u001b[39mmsg, e\u001b[38;5;241m.\u001b[39mdoc, e\u001b[38;5;241m.\u001b[39mpos)\n",
      "\u001b[0;31mJSONDecodeError\u001b[0m: [Errno Expecting value] \n<html>\n    <head>\n        <title>Invalid Key</title>\n    </head>\n    <body>\n        <p>\n            A valid <em>key</em> must be included with each data API request.\n            You included a key with this request, however, it is not valid.\n            Please check your key and try again.\n        </p>\n        <p>\n            If you do not have a key you may sign up for one <a href=\"key_signup.html\">here</a>.\n        </p>\n    </body>\n</html>\n: 1"
     ]
    }
   ],
   "source": [
    "data = response.json()\n",
    "all_cities = pd.DataFrame(data[1:], columns=data[0])\n",
    "all_cities[\"POP\"] = all_cities[\"POP\"].astype(float)\n",
    "all_cities = all_cities.sort_values(\"NAME\")\n",
    "all_cities.head()"
   ]
  },
  {
   "cell_type": "code",
   "execution_count": null,
   "id": "c324543f-7838-4427-98f1-b62ded06e85e",
   "metadata": {},
   "outputs": [],
   "source": [
    "filtered_cities = all_cities.loc[all_cities['NAME'].isin(cities)].reset_index()\n",
    "cities_population = filtered_cities[['NAME', 'POP']]\n"
   ]
  },
  {
   "cell_type": "code",
   "execution_count": null,
   "id": "270aca0e-29da-4681-ae30-9dd3d63c86e5",
   "metadata": {},
   "outputs": [],
   "source": [
    "cities_population = cities_population.rename(columns = {'NAME':'location', 'POP':'population'}).reset_index(drop=True)\n",
    "cities_population.head(20)"
   ]
  },
  {
   "cell_type": "code",
   "execution_count": null,
   "id": "1ab2660c-cad6-4632-8157-5902cb5d8948",
   "metadata": {},
   "outputs": [],
   "source": [
    "cities_population['location'] = cities_population['location'].replace({'New York city, New York':'New York City', 'Los Angeles city, California':'Los Angeles', 'San Francisco city, California':'San Francisco', 'Miami city, Florida':'Miami',\n",
    "       'Seattle city, Washington':'Seattle', 'Atlanta city, Georgia':'Atlanta', 'Denver city, Colorado':'Denver', 'Chicago city, Illinois':'Chicago', 'Dallas city, Texas':'Dallas'})\n",
    "cities_population\n",
    "                                                          "
   ]
  },
  {
   "cell_type": "code",
   "execution_count": null,
   "id": "e123a993-6cb2-4941-99e9-c16806cd7720",
   "metadata": {},
   "outputs": [],
   "source": [
    "cities_list = [\n",
    "    ['New York City', 40.7128, -74.0060],\n",
    "    ['Los Angeles' , 34.0522, -118.2437],\n",
    "    ['San Francisco', 37.7749, -122.4194],\n",
    "    ['Miami', 25.7617, -80.1918],\n",
    "    ['Seattle', 47.6062, -122.3321],\n",
    "    ['Atlanta', 33.7490, -84.3880],\n",
    "    ['Denver', 39.7392, -104.9903],\n",
    "    ['Chicago', 41.8781, -87.6298],\n",
    "    ['Dallas', 32.7767, -96.7970]\n",
    "]"
   ]
  },
  {
   "cell_type": "code",
   "execution_count": null,
   "id": "1b08dc40-d961-4bf2-b9fe-ad22068aa0df",
   "metadata": {},
   "outputs": [],
   "source": [
    "city_coordinates = {'location':[], 'latitude':[], 'longitude':[]}"
   ]
  },
  {
   "cell_type": "code",
   "execution_count": null,
   "id": "0eb89d53-e4b9-43e9-b686-26c8d39f4d26",
   "metadata": {},
   "outputs": [],
   "source": [
    "for city in cities_list:\n",
    "    city_name = city[0]\n",
    "    latitude = city[1]\n",
    "    longitude = city[2]\n",
    "    city_coordinates['location'].append(city[0])\n",
    "    city_coordinates['latitude'].append(city[1])\n",
    "    city_coordinates['longitude'].append(city[2])"
   ]
  },
  {
   "cell_type": "code",
   "execution_count": null,
   "id": "ce2d2dff-1e78-456c-8dae-40254c073252",
   "metadata": {},
   "outputs": [],
   "source": [
    "cities_cordinates = pd.DataFrame(city_coordinates)"
   ]
  },
  {
   "cell_type": "code",
   "execution_count": null,
   "id": "0b9da4aa-a302-4ae0-9801-250d890bf129",
   "metadata": {},
   "outputs": [],
   "source": [
    "database_connection_string = 'sqlite:///'"
   ]
  },
  {
   "cell_type": "code",
   "execution_count": null,
   "id": "0e07f080-f84c-4bd4-94dd-04a7ef3ac840",
   "metadata": {},
   "outputs": [],
   "source": [
    "engine = sqlalchemy.create_engine(database_connection_string)\n",
    "engine"
   ]
  },
  {
   "cell_type": "code",
   "execution_count": null,
   "id": "cd1102b4-6084-4fee-a92f-74c4300cac73",
   "metadata": {},
   "outputs": [],
   "source": [
    "cities_population.to_sql('cities_population', engine, index=False, if_exists='replace')"
   ]
  },
  {
   "cell_type": "code",
   "execution_count": null,
   "id": "79af0178-c067-43c2-a928-52817e113a07",
   "metadata": {},
   "outputs": [],
   "source": [
    "restaurant_data = pd.read_csv(\"RestaurantData.csv\")"
   ]
  },
  {
   "cell_type": "code",
   "execution_count": null,
   "id": "ad95e6e2-1094-40b4-9440-6b8794dd7e55",
   "metadata": {},
   "outputs": [],
   "source": [
    "restaurant_data.to_sql('restaurant_data', engine, index=False, if_exists='replace')"
   ]
  },
  {
   "cell_type": "code",
   "execution_count": null,
   "id": "0336fd72-48b5-45ca-bf01-dff3cb0cd900",
   "metadata": {},
   "outputs": [],
   "source": [
    "cities_cordinates.to_sql('cities_cordinates', engine, index=False, if_exists='replace')"
   ]
  },
  {
   "cell_type": "code",
   "execution_count": null,
   "id": "69dc3b5d-45af-4c6d-bdb2-d5f947656f17",
   "metadata": {},
   "outputs": [],
   "source": [
    "engine.table_names()\n"
   ]
  },
  {
   "cell_type": "code",
   "execution_count": null,
   "id": "f4215b44-2bad-4bbb-84f8-33ff32e52bdd",
   "metadata": {},
   "outputs": [],
   "source": [
    "query = \"\"\"\n",
    "SELECT rd.location, rd.cuisine, rd.price, rd.count, cp.population, cc.latitude, cc.longitude\n",
    "FROM restaurant_data AS rd\n",
    "LEFT JOIN cities_population AS cp\n",
    "ON rd.location = cp.location\n",
    "LEFT JOIN cities_cordinates AS cc\n",
    "ON rd.location = cc.location;\n",
    "\"\"\""
   ]
  },
  {
   "cell_type": "code",
   "execution_count": null,
   "id": "98eddc7c-8c85-4efd-8473-f80b16d6f0f6",
   "metadata": {},
   "outputs": [],
   "source": [
    "joined_df = pd.read_sql_query(query, con=engine)"
   ]
  },
  {
   "cell_type": "code",
   "execution_count": null,
   "id": "7771e269-63de-4758-92dc-fcecf5aa6cfd",
   "metadata": {},
   "outputs": [],
   "source": [
    "joined_df.head(40)\n"
   ]
  },
  {
   "cell_type": "code",
   "execution_count": null,
   "id": "34cda116-2af8-4177-9263-93d91a15cb98",
   "metadata": {},
   "outputs": [],
   "source": [
    "new_join_df = joined_df[['location', 'cuisine', 'price', 'count']]\n"
   ]
  },
  {
   "cell_type": "code",
   "execution_count": null,
   "id": "42ada255-b6a5-476e-9284-cdefe6e12a35",
   "metadata": {},
   "outputs": [],
   "source": [
    "pivot_df = joined_df.pivot_table(index=['location', 'cuisine', 'population', 'latitude', 'longitude'], columns='price', values='count')\n",
    "pivot_df.columns = ['price1', 'price2', 'price3', 'price4']"
   ]
  },
  {
   "cell_type": "code",
   "execution_count": null,
   "id": "07a2ed17-cb62-4062-9078-be42da23a952",
   "metadata": {},
   "outputs": [],
   "source": [
    "pivot_df.reset_index(inplace=True)"
   ]
  },
  {
   "cell_type": "code",
   "execution_count": null,
   "id": "9d3c6a36-ac67-412c-ab4b-af869e729322",
   "metadata": {},
   "outputs": [],
   "source": [
    "pivot_df"
   ]
  },
  {
   "cell_type": "code",
   "execution_count": null,
   "id": "328c3ab4-6566-4adf-b673-440a7efb832d",
   "metadata": {},
   "outputs": [],
   "source": [
    "pivot_df.to_csv('restaurants_pivot.csv')"
   ]
  },
  {
   "cell_type": "code",
   "execution_count": null,
   "id": "e1472f5f-d9c1-4571-a20a-258ac3c85f35",
   "metadata": {},
   "outputs": [],
   "source": [
    "pivot_df['total_rest'] = pivot_df['price1'] + pivot_df['price2'] + pivot_df['price3'] + pivot_df['price4']"
   ]
  }
 ],
 "metadata": {
  "kernelspec": {
   "display_name": "Python 3 (ipykernel)",
   "language": "python",
   "name": "python3"
  },
  "language_info": {
   "codemirror_mode": {
    "name": "ipython",
    "version": 3
   },
   "file_extension": ".py",
   "mimetype": "text/x-python",
   "name": "python",
   "nbconvert_exporter": "python",
   "pygments_lexer": "ipython3",
   "version": "3.9.12"
  }
 },
 "nbformat": 4,
 "nbformat_minor": 5
}
